{
 "cells": [
  {
   "cell_type": "markdown",
   "metadata": {},
   "source": [
    "# KANs with Wavelets\n",
    "\n",
    "Replace B-Splines with Wavelets\n",
    "Following base code is taken from [WavKAN](https://github.com/zavareh1/Wav-KAN)\n",
    "and this notebooks on [Wavelet Regression](https://github.com/jseabold/web-site/blob/master/content/notebooks/wavelet-regression-in-python.ipynb)\n"
   ]
  },
  {
   "cell_type": "code",
   "execution_count": 1,
   "metadata": {},
   "outputs": [
    {
     "name": "stdout",
     "output_type": "stream",
     "text": [
      "len coeffs 12\n",
      "coeffs [array([2.30187734]), array([1.06479049e-16]), array([6.186301e-17]), array([5.32395243e-17]), array([3.0931505e-17]), array([3.4433049e-17]), array([2.99739878e-17]), array([-0.41766696]), array([0.50142039, 0.01172786]), array([ 0.34313953,  0.80628533, -0.5238355 ,  0.25893576]), array([-0.12750485,  0.34344166,  0.24330983, -0.29129762,  0.16444378,\n",
      "       -0.02267104,  0.11171118,  0.06598119]), array([-5.18908618e-01, -2.25859891e-01,  4.10743880e-01, -3.13104723e-01,\n",
      "        2.15213753e-01, -1.18045222e-01,  3.27384452e-02,  7.87789510e-03,\n",
      "       -7.37504100e-03, -4.08912980e-04,  7.20104870e-04,  2.28382803e-04,\n",
      "        8.64670153e-04, -7.31888789e-02, -1.53443128e-01,  3.21170410e-01])]\n"
     ]
    },
    {
     "name": "stderr",
     "output_type": "stream",
     "text": [
      "/opt/miniconda3/envs/ai839/lib/python3.10/site-packages/pywt/_multilevel.py:43: UserWarning: Level value of 11 is too high: all coefficients will experience boundary effects.\n",
      "  warnings.warn(\n"
     ]
    }
   ],
   "source": [
    "from scipy import stats\n",
    "import numpy as np\n",
    "\n",
    "import pywt\n",
    "import matplotlib.pyplot as plt\n",
    "\n",
    "np.random.seed(12345)\n",
    "\n",
    "def doppler(x):\n",
    "    \"\"\"\n",
    "    Parameters\n",
    "    ----------\n",
    "    x : array-like\n",
    "        Domain of x is in (0,1]\n",
    " \n",
    "    \"\"\"\n",
    "    if not np.all((x >= 0) & (x <= 1)):\n",
    "        raise ValueError(\"Domain of doppler is x in (0,1]\")\n",
    "    return np.sqrt(x*(1-x))*np.sin((2.1*np.pi)/(x+.05))\n",
    "\n",
    "n = 2**5 # power of 2\n",
    "blck = doppler(np.linspace(0,1,n))\n",
    "true_coefs = pywt.wavedec(blck, 'db8', level=11, mode='per')\n",
    "print('len coeffs',len(true_coefs))\n",
    "print('coeffs',true_coefs)"
   ]
  },
  {
   "cell_type": "code",
   "execution_count": 2,
   "metadata": {},
   "outputs": [
    {
     "name": "stdout",
     "output_type": "stream",
     "text": [
      "len coeffs 4\n",
      "coeffs [array([ 0.16705327, -1.04448547,  0.63413551,  1.01981164,  0.17032441,\n",
      "        0.1355439 , -0.08616124,  0.16058065]), array([-0.10378772, -0.71634554, -0.57109133,  0.71066801, -0.51139827,\n",
      "        0.3247194 , -0.06690667,  0.15307834]), array([ 2.41259063e-01, -1.46338700e-01,  5.23587706e-01,  9.73010949e-02,\n",
      "       -2.74462963e-01,  1.95727710e-01, -5.78681341e-02, -3.23758210e-02,\n",
      "        3.96616022e-02, -9.95135287e-03, -3.63432803e-03,  8.28965328e-04,\n",
      "       -2.47624898e-04, -1.51517112e-02, -8.13913049e-02,  1.63759165e-01]), array([-3.53778390e-02,  3.13141395e-02, -5.26989169e-02, -3.52046918e-01,\n",
      "        3.56198409e-01, -2.76916362e-01,  1.88727303e-01, -8.95186550e-02,\n",
      "        7.74411906e-03,  2.07977842e-02, -8.49041913e-03, -2.89929061e-03,\n",
      "        1.14711346e-03,  7.82203617e-04,  9.64021368e-05, -1.01488177e-04,\n",
      "       -8.02617651e-05, -3.20807297e-05, -5.07020120e-06,  4.04268660e-06,\n",
      "        4.95278018e-06,  3.46367524e-06,  1.88856106e-06,  8.13804700e-07,\n",
      "        1.97110791e-07, -1.94769536e-07, -9.72150971e-07, -8.93327251e-06,\n",
      "        2.87734637e-04, -8.76251439e-03, -7.17555813e-03, -2.38703997e-01])]\n",
      "0 8\n",
      "1 8\n",
      "2 16\n",
      "3 32\n"
     ]
    },
    {
     "name": "stderr",
     "output_type": "stream",
     "text": [
      "/opt/miniconda3/envs/ai839/lib/python3.10/site-packages/pywt/_multilevel.py:43: UserWarning: Level value of 3 is too high: all coefficients will experience boundary effects.\n",
      "  warnings.warn(\n"
     ]
    }
   ],
   "source": [
    "n = 2**6 + 0 # power of 2\n",
    "blck = doppler(np.linspace(0,1,n))\n",
    "true_coefs = pywt.wavedec(blck, 'db8', level=3, mode='per')\n",
    "print('len coeffs',len(true_coefs))\n",
    "print('coeffs',true_coefs)\n",
    "\n",
    "B = true_coefs\n",
    "for i in range(len(B)):\n",
    "    print(i,len(B[i]))"
   ]
  }
 ],
 "metadata": {
  "kernelspec": {
   "display_name": "ai839",
   "language": "python",
   "name": "python3"
  },
  "language_info": {
   "codemirror_mode": {
    "name": "ipython",
    "version": 3
   },
   "file_extension": ".py",
   "mimetype": "text/x-python",
   "name": "python",
   "nbconvert_exporter": "python",
   "pygments_lexer": "ipython3",
   "version": "3.10.0"
  }
 },
 "nbformat": 4,
 "nbformat_minor": 2
}
